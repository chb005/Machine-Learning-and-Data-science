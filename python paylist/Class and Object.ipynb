{
 "cells": [
  {
   "cell_type": "code",
   "execution_count": 6,
   "metadata": {},
   "outputs": [
    {
     "name": "stdout",
     "output_type": "stream",
     "text": [
      "chirag bhatt teaching java\n",
      "chirag bhatt how are you...\n",
      "Navin patel  teaching you practical\n",
      "Navin patel how are you...\n"
     ]
    }
   ],
   "source": [
    "class Teach:\n",
    "    def __init__(self,n,w):\n",
    "        self.name=n\n",
    "        self.work=w\n",
    "        \n",
    "    def do_work(self):\n",
    "        if self.work==\"teacher\":\n",
    "            print(self.name,\"teaching java\")\n",
    "        elif self.work==\"labasst\":\n",
    "            print(self.name,\" teaching you practical\")\n",
    "            \n",
    "    def speaks(self):\n",
    "        print(self.name,\"how are you...\")\n",
    "        \n",
    "chb=Teach(\"chirag bhatt\",\"teacher\")\n",
    "chb.do_work()\n",
    "chb.speaks()\n",
    "    \n",
    "dhb=Teach(\"Navin patel\",\"labasst\")\n",
    "dhb.do_work()\n",
    "dhb.speaks()\n",
    "        \n",
    "        "
   ]
  },
  {
   "cell_type": "code",
   "execution_count": null,
   "metadata": {},
   "outputs": [],
   "source": []
  }
 ],
 "metadata": {
  "kernelspec": {
   "display_name": "Python 3",
   "language": "python",
   "name": "python3"
  },
  "language_info": {
   "codemirror_mode": {
    "name": "ipython",
    "version": 3
   },
   "file_extension": ".py",
   "mimetype": "text/x-python",
   "name": "python",
   "nbconvert_exporter": "python",
   "pygments_lexer": "ipython3",
   "version": "3.7.1"
  }
 },
 "nbformat": 4,
 "nbformat_minor": 2
}
