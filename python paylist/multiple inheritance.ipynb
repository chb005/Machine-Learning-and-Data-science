{
 "cells": [
  {
   "cell_type": "code",
   "execution_count": 3,
   "metadata": {},
   "outputs": [],
   "source": [
    "class father:\n",
    "    def playing(self):\n",
    "        print(\"father playing\")\n",
    "\n",
    "class mother:\n",
    "    def cooking(self):\n",
    "        print(\"mother is cooking\")\n",
    "        \n",
    "class rahul(father,mother):\n",
    "    def sport(self):\n",
    "        print(\"enjoy sport\")\n",
    "        "
   ]
  },
  {
   "cell_type": "code",
   "execution_count": 6,
   "metadata": {},
   "outputs": [
    {
     "name": "stdout",
     "output_type": "stream",
     "text": [
      "father playing\n",
      "mother is cooking\n",
      "enjoy sport\n"
     ]
    }
   ],
   "source": [
    "c=rahul()\n",
    "c.playing()\n",
    "c.cooking()\n",
    "c.sport()"
   ]
  },
  {
   "cell_type": "code",
   "execution_count": null,
   "metadata": {},
   "outputs": [],
   "source": []
  }
 ],
 "metadata": {
  "kernelspec": {
   "display_name": "Python 3",
   "language": "python",
   "name": "python3"
  },
  "language_info": {
   "codemirror_mode": {
    "name": "ipython",
    "version": 3
   },
   "file_extension": ".py",
   "mimetype": "text/x-python",
   "name": "python",
   "nbconvert_exporter": "python",
   "pygments_lexer": "ipython3",
   "version": "3.7.1"
  }
 },
 "nbformat": 4,
 "nbformat_minor": 2
}
