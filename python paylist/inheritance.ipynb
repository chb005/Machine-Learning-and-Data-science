{
 "cells": [
  {
   "cell_type": "code",
   "execution_count": 4,
   "metadata": {},
   "outputs": [
    {
     "name": "stdout",
     "output_type": "stream",
     "text": [
      "This is car\n",
      "general use: Transport\n",
      "specific use: going to market\n",
      "This is scotter\n",
      "general use: Transport\n",
      "specific use: small trip\n"
     ]
    }
   ],
   "source": [
    "class vehicle:\n",
    "    def general(self):\n",
    "        print(\"general use: Transport\")\n",
    "        \n",
    "class car(vehicle):\n",
    "    def __init__(self):\n",
    "        print(\"This is car\")\n",
    "        self.wheels=4\n",
    "        self.roof=True\n",
    "        \n",
    "    def spec_use(self):\n",
    "        #self.general()\n",
    "        print(\"specific use: going to market\")\n",
    "        \n",
    "class scotter(vehicle):\n",
    "    def __init__(self):\n",
    "        print(\"This is scotter\")\n",
    "        self.wheels=2\n",
    "        self.roof=False\n",
    "        \n",
    "    def spec_use(self):\n",
    "        #self.general()\n",
    "        print(\"specific use: small trip\")\n",
    "        \n",
    "c=car()\n",
    "c.general()\n",
    "c.spec_use()\n",
    "\n",
    "s=scotter()\n",
    "s.general()\n",
    "s.spec_use()"
   ]
  },
  {
   "cell_type": "code",
   "execution_count": null,
   "metadata": {},
   "outputs": [],
   "source": []
  }
 ],
 "metadata": {
  "kernelspec": {
   "display_name": "Python 3",
   "language": "python",
   "name": "python3"
  },
  "language_info": {
   "codemirror_mode": {
    "name": "ipython",
    "version": 3
   },
   "file_extension": ".py",
   "mimetype": "text/x-python",
   "name": "python",
   "nbconvert_exporter": "python",
   "pygments_lexer": "ipython3",
   "version": "3.7.1"
  }
 },
 "nbformat": 4,
 "nbformat_minor": 2
}
